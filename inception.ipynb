{
  "cells": [
    {
      "cell_type": "code",
      "execution_count": 1,
      "metadata": {
        "id": "QkZQtJI11nSB"
      },
      "outputs": [],
      "source": [
        "\n",
        "# Import the required libraries.\n",
        "import os\n",
        "import cv2\n",
        "# import pafy\n",
        "import math\n",
        "import random\n",
        "import numpy as np\n",
        "import datetime as dt\n",
        "import tensorflow as tf\n",
        "from collections import deque\n",
        "import matplotlib.pyplot as plt\n",
        "\n",
        "from moviepy.editor import *\n",
        "%matplotlib inline\n",
        "\n",
        "from sklearn.model_selection import train_test_split\n",
        "from keras.regularizers import l2\n",
        "\n",
        "from tensorflow.keras.layers import *\n",
        "from tensorflow.keras.models import Sequential\n",
        "from tensorflow.keras.utils import to_categorical\n",
        "from tensorflow.keras.callbacks import EarlyStopping\n",
        "from tensorflow.keras.utils import plot_model"
      ]
    },
    {
      "cell_type": "code",
      "execution_count": 2,
      "metadata": {
        "colab": {
          "base_uri": "https://localhost:8080/"
        },
        "id": "G6x0GAaQ-TYA",
        "outputId": "738c271c-8233-4e6d-d9cf-109d9c9e123c"
      },
      "outputs": [
        {
          "output_type": "stream",
          "name": "stdout",
          "text": [
            "Drive already mounted at /content/drive; to attempt to forcibly remount, call drive.mount(\"/content/drive\", force_remount=True).\n"
          ]
        }
      ],
      "source": [
        "from google.colab import drive\n",
        "drive.mount('/content/drive')"
      ]
    },
    {
      "cell_type": "code",
      "execution_count": 3,
      "metadata": {
        "id": "6He_EduX-TbD"
      },
      "outputs": [],
      "source": [
        "# Specify the height and width of the images.\n",
        "IMAGE_HEIGHT, IMAGE_WIDTH = 75, 75\n",
        "\n",
        "SEQUENCE_LENGTH = 10\n",
        "DATASET_DIR = \"/content/drive/MyDrive/FYP/dataset\"\n",
        "CLASSES_LIST = [\"After\" , \"Before\"]"
      ]
    },
    {
      "cell_type": "code",
      "execution_count": 4,
      "metadata": {
        "id": "ruaclz5N-TeD"
      },
      "outputs": [],
      "source": [
        "def load_images(class_name):\n",
        "    images_list = []\n",
        "    class_dir = os.path.join(DATASET_DIR, class_name)\n",
        "    image_files = os.listdir(class_dir)\n",
        "    image_files.sort()\n",
        "\n",
        "    for image_file in image_files:\n",
        "        image_path = os.path.join(class_dir, image_file)\n",
        "        image = cv2.imread(image_path)\n",
        "        resized_image = cv2.resize(image, (IMAGE_HEIGHT, IMAGE_WIDTH))\n",
        "        normalized_image = resized_image / 255.0\n",
        "        images_list.append(normalized_image)\n",
        "\n",
        "    return images_list"
      ]
    },
    {
      "cell_type": "code",
      "execution_count": 4,
      "metadata": {
        "id": "hqzH5wwTxW7t"
      },
      "outputs": [],
      "source": []
    },
    {
      "cell_type": "code",
      "execution_count": 5,
      "metadata": {
        "id": "zFonlCBr-Tly"
      },
      "outputs": [],
      "source": [
        "def create_dataset():\n",
        "    features = []\n",
        "    labels = []\n",
        "\n",
        "    for class_index, class_name in enumerate(CLASSES_LIST):\n",
        "        print(f'Loading data for class: {class_name}')\n",
        "        images = load_images(class_name)\n",
        "\n",
        "        for i in range(0, len(images) - SEQUENCE_LENGTH + 1, SEQUENCE_LENGTH):\n",
        "            sequence = images[i:i+SEQUENCE_LENGTH]\n",
        "            features.append(sequence)\n",
        "            labels.append(class_index)\n",
        "    np.save('features.npy', features)\n",
        "    np.save('labels.npy' , labels)\n",
        "\n",
        "    return np.array(features), np.array(labels)\n"
      ]
    },
    {
      "cell_type": "code",
      "execution_count": 5,
      "metadata": {
        "id": "LcJTWeGbw7SC"
      },
      "outputs": [],
      "source": [
        "\n"
      ]
    },
    {
      "cell_type": "code",
      "execution_count": 6,
      "metadata": {
        "colab": {
          "base_uri": "https://localhost:8080/"
        },
        "id": "88SFZ1oZ-vHT",
        "outputId": "d03cf3d0-987c-450f-f586-bd0496a2ab2f"
      },
      "outputs": [
        {
          "output_type": "stream",
          "name": "stdout",
          "text": [
            "Loading data for class: After\n",
            "Loading data for class: Before\n"
          ]
        }
      ],
      "source": [
        "features, labels = create_dataset()"
      ]
    },
    {
      "cell_type": "code",
      "execution_count": 7,
      "metadata": {
        "id": "eoSooxYl-y5e"
      },
      "outputs": [],
      "source": [
        "features_train, features_test, labels_train, labels_test = train_test_split(\n",
        "    features, labels, test_size=0.05, shuffle=True, random_state=42)"
      ]
    },
    {
      "cell_type": "code",
      "execution_count": 8,
      "metadata": {
        "id": "UYmmVx7q-y8a"
      },
      "outputs": [],
      "source": [
        "# Reshape labels to match the model's output\n",
        "labels_train = np.expand_dims(labels_train, axis=1)\n",
        "labels_test = np.expand_dims(labels_test, axis=1)"
      ]
    },
    {
      "cell_type": "code",
      "execution_count": 24,
      "metadata": {
        "colab": {
          "base_uri": "https://localhost:8080/"
        },
        "id": "8OTC3wbvJ2h6",
        "outputId": "3aafd8ea-13af-4e99-9c40-5fff1b314f23"
      },
      "outputs": [
        {
          "output_type": "stream",
          "name": "stdout",
          "text": [
            "Downloading data from https://storage.googleapis.com/tensorflow/keras-applications/inception_v3/inception_v3_weights_tf_dim_ordering_tf_kernels_notop.h5\n",
            "87910968/87910968 [==============================] - 0s 0us/step\n",
            "Model: \"sequential_2\"\n",
            "_________________________________________________________________\n",
            " Layer (type)                Output Shape              Param #   \n",
            "=================================================================\n",
            " time_distributed_4 (TimeDi  (None, 10, 1, 1, 2048)    21802784  \n",
            " stributed)                                                      \n",
            "                                                                 \n",
            " time_distributed_5 (TimeDi  (None, 10, 2048)          0         \n",
            " stributed)                                                      \n",
            "                                                                 \n",
            " lstm_2 (LSTM)               (None, 10, 64)            540928    \n",
            "                                                                 \n",
            " batch_normalization_100 (B  (None, 10, 64)            256       \n",
            " atchNormalization)                                              \n",
            "                                                                 \n",
            " dense_4 (Dense)             (None, 10, 64)            4160      \n",
            "                                                                 \n",
            " dropout_2 (Dropout)         (None, 10, 64)            0         \n",
            "                                                                 \n",
            " dense_5 (Dense)             (None, 10, 1)             65        \n",
            "                                                                 \n",
            "=================================================================\n",
            "Total params: 22348193 (85.25 MB)\n",
            "Trainable params: 545281 (2.08 MB)\n",
            "Non-trainable params: 21802912 (83.17 MB)\n",
            "_________________________________________________________________\n"
          ]
        }
      ],
      "source": [
        "import numpy as np\n",
        "import pandas as pd\n",
        "import matplotlib.pyplot as plt\n",
        "from keras.models import Sequential\n",
        "from keras.layers import LSTM, Dense, Dropout, Flatten, TimeDistributed\n",
        "from keras.applications import MobileNetV2  # Import MobileNetV2\n",
        "from keras.optimizers import Adam\n",
        "from keras.applications import InceptionV3\n",
        "from keras.applications import ResNet50\n",
        "from keras.applications import Xception\n",
        "from keras.optimizers import SGD\n",
        "from keras.layers import BatchNormalization\n",
        "\n",
        "\n",
        "from keras.regularizers import l2\n",
        "from keras.callbacks import ReduceLROnPlateau, EarlyStopping\n",
        "\n",
        "def create_mobilenet_lstm_model(SEQUENCE_LENGTH):\n",
        "    # Create a Sequential model\n",
        "    model = Sequential()\n",
        "\n",
        "    # Add MobileNetV2 model as the CNN base\n",
        "    inception = InceptionV3(weights='imagenet', include_top=False, input_shape=(75, 75, 3))\n",
        "\n",
        "    inception.trainable = False\n",
        "    model.add(TimeDistributed(inception, input_shape=(SEQUENCE_LENGTH, 75, 75, 3)))\n",
        "    #mobilenet.summary()\n",
        "\n",
        "    #Flatten the output of ResNet\n",
        "    model.add(TimeDistributed(Flatten()))\n",
        "\n",
        "    # Add LSTM layers\n",
        "    model.add(LSTM(64, return_sequences=True))\n",
        "    #model.add(Bidirectional(LSTM(64, return_sequences=True)))\n",
        "    model.add(BatchNormalization())\n",
        "\n",
        "    # Add fully connected layers with dropout and L2 regularization\n",
        "    model.add(Dense(64, activation='relu', kernel_regularizer=l2(0.00001)))\n",
        "\n",
        "    model.add(Dropout(0.7))  # Dropout layer to reduce overfitting\n",
        "    model.add(Dense(1, activation='sigmoid'))\n",
        "\n",
        "    #Define EarlyStopping callback\n",
        "    early_stopping = EarlyStopping(monitor='val_loss', patience=5, restore_best_weights=True)\n",
        "\n",
        "\n",
        "    reduce_lr = ReduceLROnPlateau(monitor='val_loss', factor=0.2, patience=5, min_lr=0.1)  # Adjust the factor and patience as needed\n",
        "\n",
        "\n",
        "    # Display the model summary\n",
        "    model.summary()\n",
        "\n",
        "    # Return the constructed CNN-LSTM model with ResNet50 as the CNN base\n",
        "    return model, [early_stopping, reduce_lr]  # Use a list of callbacks\n",
        "\n",
        "\n",
        "# Usage example:\n",
        "SEQUENCE_LENGTH = 10  # Set your desired sequence length\n",
        "model, early_stopping = create_mobilenet_lstm_model(SEQUENCE_LENGTH)"
      ]
    },
    {
      "cell_type": "code",
      "execution_count": 25,
      "metadata": {
        "id": "CTEoFzEncsHn"
      },
      "outputs": [],
      "source": [
        "from keras.callbacks import LearningRateScheduler\n",
        "# Define a custom learning rate schedule function\n",
        "def custom_learning_rate(epoch):\n",
        "    # Define the initial learning rate\n",
        "    initial_lr = 0.1\n",
        "\n",
        "    # Set the learning rate to decrease by a factor of 0.1 every 10 epochs\n",
        "    lr = initial_lr * (0.1 ** (epoch // 10))\n",
        "\n",
        "    return lr\n",
        "    # Create a LearningRateScheduler callback\n",
        "lr_scheduler = LearningRateScheduler(custom_learning_rate)"
      ]
    },
    {
      "cell_type": "code",
      "execution_count": 26,
      "metadata": {
        "id": "K7mOXFgE_Tjk"
      },
      "outputs": [],
      "source": [
        "# Compile the model\n",
        "from keras.optimizers import RMSprop\n",
        "\n",
        "\n",
        "#optimizer = Adam(learning_rate=0.0001)\n",
        "optimizer = SGD(learning_rate=0.001, momentum=0.9)\n",
        "#optimizer = RMSprop(learning_rate=0.1)\n",
        "\n",
        "model.compile(loss='binary_crossentropy',  optimizer=optimizer, metrics=['accuracy'])"
      ]
    },
    {
      "cell_type": "code",
      "execution_count": 27,
      "metadata": {
        "colab": {
          "base_uri": "https://localhost:8080/"
        },
        "id": "D8OVCCr8_W_t",
        "outputId": "6a9437f3-9203-40ca-de43-bccd9a82a0b9"
      },
      "outputs": [
        {
          "output_type": "stream",
          "name": "stdout",
          "text": [
            "Epoch 1/200\n",
            "9/9 [==============================] - 34s 2s/step - loss: 0.9431 - accuracy: 0.5118 - val_loss: 0.6738 - val_accuracy: 0.5933 - lr: 0.0010\n",
            "Epoch 2/200\n",
            "9/9 [==============================] - 2s 270ms/step - loss: 0.8211 - accuracy: 0.5725 - val_loss: 0.6452 - val_accuracy: 0.6783 - lr: 0.0010\n",
            "Epoch 3/200\n",
            "9/9 [==============================] - 2s 281ms/step - loss: 0.6982 - accuracy: 0.6398 - val_loss: 0.6178 - val_accuracy: 0.7383 - lr: 0.0010\n",
            "Epoch 4/200\n",
            "9/9 [==============================] - 3s 296ms/step - loss: 0.6393 - accuracy: 0.6754 - val_loss: 0.5933 - val_accuracy: 0.7900 - lr: 0.0010\n",
            "Epoch 5/200\n",
            "9/9 [==============================] - 2s 269ms/step - loss: 0.5874 - accuracy: 0.7085 - val_loss: 0.5710 - val_accuracy: 0.8100 - lr: 0.0010\n",
            "Epoch 6/200\n",
            "9/9 [==============================] - 2s 266ms/step - loss: 0.5505 - accuracy: 0.7351 - val_loss: 0.5516 - val_accuracy: 0.8367 - lr: 0.0010\n",
            "Epoch 7/200\n",
            "9/9 [==============================] - 2s 262ms/step - loss: 0.5215 - accuracy: 0.7481 - val_loss: 0.5350 - val_accuracy: 0.8517 - lr: 0.0010\n",
            "Epoch 8/200\n",
            "9/9 [==============================] - 2s 265ms/step - loss: 0.4933 - accuracy: 0.7610 - val_loss: 0.5184 - val_accuracy: 0.8583 - lr: 0.0010\n",
            "Epoch 9/200\n",
            "9/9 [==============================] - 2s 271ms/step - loss: 0.4709 - accuracy: 0.7739 - val_loss: 0.5028 - val_accuracy: 0.8700 - lr: 0.0010\n",
            "Epoch 10/200\n",
            "9/9 [==============================] - 3s 294ms/step - loss: 0.4472 - accuracy: 0.7952 - val_loss: 0.4871 - val_accuracy: 0.8733 - lr: 0.0010\n",
            "Epoch 11/200\n",
            "9/9 [==============================] - 2s 277ms/step - loss: 0.4372 - accuracy: 0.7934 - val_loss: 0.4714 - val_accuracy: 0.8750 - lr: 0.0010\n",
            "Epoch 12/200\n",
            "9/9 [==============================] - 2s 262ms/step - loss: 0.4193 - accuracy: 0.8037 - val_loss: 0.4572 - val_accuracy: 0.8833 - lr: 0.0010\n",
            "Epoch 13/200\n",
            "9/9 [==============================] - 2s 260ms/step - loss: 0.4063 - accuracy: 0.8140 - val_loss: 0.4430 - val_accuracy: 0.8850 - lr: 0.0010\n",
            "Epoch 14/200\n",
            "9/9 [==============================] - 2s 259ms/step - loss: 0.4008 - accuracy: 0.8135 - val_loss: 0.4290 - val_accuracy: 0.8883 - lr: 0.0010\n",
            "Epoch 15/200\n",
            "9/9 [==============================] - 2s 260ms/step - loss: 0.3902 - accuracy: 0.8179 - val_loss: 0.4168 - val_accuracy: 0.8900 - lr: 0.0010\n",
            "Epoch 16/200\n",
            "9/9 [==============================] - 3s 295ms/step - loss: 0.3725 - accuracy: 0.8350 - val_loss: 0.4039 - val_accuracy: 0.8933 - lr: 0.0010\n",
            "Epoch 17/200\n",
            "9/9 [==============================] - 2s 274ms/step - loss: 0.3674 - accuracy: 0.8345 - val_loss: 0.3913 - val_accuracy: 0.8933 - lr: 0.0010\n",
            "Epoch 18/200\n",
            "9/9 [==============================] - 2s 264ms/step - loss: 0.3494 - accuracy: 0.8425 - val_loss: 0.3788 - val_accuracy: 0.8950 - lr: 0.0010\n",
            "Epoch 19/200\n",
            "9/9 [==============================] - 2s 260ms/step - loss: 0.3445 - accuracy: 0.8480 - val_loss: 0.3675 - val_accuracy: 0.8967 - lr: 0.0010\n",
            "Epoch 20/200\n",
            "9/9 [==============================] - 2s 259ms/step - loss: 0.3382 - accuracy: 0.8487 - val_loss: 0.3558 - val_accuracy: 0.9000 - lr: 0.0010\n",
            "Epoch 21/200\n",
            "9/9 [==============================] - 2s 263ms/step - loss: 0.3356 - accuracy: 0.8491 - val_loss: 0.3453 - val_accuracy: 0.8983 - lr: 0.0010\n",
            "Epoch 22/200\n",
            "9/9 [==============================] - 3s 302ms/step - loss: 0.3253 - accuracy: 0.8574 - val_loss: 0.3352 - val_accuracy: 0.9017 - lr: 0.0010\n",
            "Epoch 23/200\n",
            "9/9 [==============================] - 3s 290ms/step - loss: 0.3120 - accuracy: 0.8627 - val_loss: 0.3253 - val_accuracy: 0.9067 - lr: 0.0010\n",
            "Epoch 24/200\n",
            "9/9 [==============================] - 2s 263ms/step - loss: 0.3092 - accuracy: 0.8676 - val_loss: 0.3156 - val_accuracy: 0.9100 - lr: 0.0010\n",
            "Epoch 25/200\n",
            "9/9 [==============================] - 2s 261ms/step - loss: 0.3009 - accuracy: 0.8734 - val_loss: 0.3084 - val_accuracy: 0.9067 - lr: 0.0010\n",
            "Epoch 26/200\n",
            "9/9 [==============================] - 2s 262ms/step - loss: 0.2998 - accuracy: 0.8705 - val_loss: 0.3006 - val_accuracy: 0.9067 - lr: 0.0010\n",
            "Epoch 27/200\n",
            "9/9 [==============================] - 2s 263ms/step - loss: 0.2953 - accuracy: 0.8697 - val_loss: 0.2924 - val_accuracy: 0.9100 - lr: 0.0010\n",
            "Epoch 28/200\n",
            "9/9 [==============================] - 3s 295ms/step - loss: 0.2806 - accuracy: 0.8814 - val_loss: 0.2851 - val_accuracy: 0.9117 - lr: 0.0010\n",
            "Epoch 29/200\n",
            "9/9 [==============================] - 3s 284ms/step - loss: 0.2791 - accuracy: 0.8797 - val_loss: 0.2782 - val_accuracy: 0.9133 - lr: 0.0010\n",
            "Epoch 30/200\n",
            "9/9 [==============================] - 2s 265ms/step - loss: 0.2723 - accuracy: 0.8843 - val_loss: 0.2718 - val_accuracy: 0.9117 - lr: 0.0010\n",
            "Epoch 31/200\n",
            "9/9 [==============================] - 2s 264ms/step - loss: 0.2628 - accuracy: 0.8944 - val_loss: 0.2657 - val_accuracy: 0.9150 - lr: 0.0010\n",
            "Epoch 32/200\n",
            "9/9 [==============================] - 2s 267ms/step - loss: 0.2587 - accuracy: 0.8933 - val_loss: 0.2607 - val_accuracy: 0.9183 - lr: 0.0010\n",
            "Epoch 33/200\n",
            "9/9 [==============================] - 3s 329ms/step - loss: 0.2534 - accuracy: 0.8976 - val_loss: 0.2550 - val_accuracy: 0.9217 - lr: 0.0010\n",
            "Epoch 34/200\n",
            "9/9 [==============================] - 4s 446ms/step - loss: 0.2523 - accuracy: 0.8968 - val_loss: 0.2492 - val_accuracy: 0.9233 - lr: 0.0010\n",
            "Epoch 35/200\n",
            "9/9 [==============================] - 2s 279ms/step - loss: 0.2451 - accuracy: 0.9026 - val_loss: 0.2454 - val_accuracy: 0.9217 - lr: 0.0010\n",
            "Epoch 36/200\n",
            "9/9 [==============================] - 2s 262ms/step - loss: 0.2431 - accuracy: 0.8989 - val_loss: 0.2418 - val_accuracy: 0.9200 - lr: 0.0010\n",
            "Epoch 37/200\n",
            "9/9 [==============================] - 2s 262ms/step - loss: 0.2434 - accuracy: 0.9016 - val_loss: 0.2369 - val_accuracy: 0.9183 - lr: 0.0010\n",
            "Epoch 38/200\n",
            "9/9 [==============================] - 2s 263ms/step - loss: 0.2368 - accuracy: 0.9080 - val_loss: 0.2325 - val_accuracy: 0.9217 - lr: 0.0010\n",
            "Epoch 39/200\n",
            "9/9 [==============================] - 2s 271ms/step - loss: 0.2312 - accuracy: 0.9073 - val_loss: 0.2282 - val_accuracy: 0.9267 - lr: 0.0010\n",
            "Epoch 40/200\n",
            "9/9 [==============================] - 3s 287ms/step - loss: 0.2242 - accuracy: 0.9118 - val_loss: 0.2248 - val_accuracy: 0.9283 - lr: 0.0010\n",
            "Epoch 41/200\n",
            "9/9 [==============================] - 3s 282ms/step - loss: 0.2216 - accuracy: 0.9134 - val_loss: 0.2217 - val_accuracy: 0.9333 - lr: 0.0010\n",
            "Epoch 42/200\n",
            "9/9 [==============================] - 2s 266ms/step - loss: 0.2243 - accuracy: 0.9131 - val_loss: 0.2184 - val_accuracy: 0.9317 - lr: 0.0010\n",
            "Epoch 43/200\n",
            "9/9 [==============================] - 2s 267ms/step - loss: 0.2144 - accuracy: 0.9149 - val_loss: 0.2158 - val_accuracy: 0.9350 - lr: 0.0010\n",
            "Epoch 44/200\n",
            "9/9 [==============================] - 2s 264ms/step - loss: 0.2075 - accuracy: 0.9209 - val_loss: 0.2137 - val_accuracy: 0.9317 - lr: 0.0010\n",
            "Epoch 45/200\n",
            "9/9 [==============================] - 2s 269ms/step - loss: 0.2049 - accuracy: 0.9200 - val_loss: 0.2098 - val_accuracy: 0.9350 - lr: 0.0010\n",
            "Epoch 46/200\n",
            "9/9 [==============================] - 3s 296ms/step - loss: 0.2041 - accuracy: 0.9166 - val_loss: 0.2072 - val_accuracy: 0.9350 - lr: 0.0010\n",
            "Epoch 47/200\n",
            "9/9 [==============================] - 2s 278ms/step - loss: 0.1985 - accuracy: 0.9219 - val_loss: 0.2049 - val_accuracy: 0.9350 - lr: 0.0010\n",
            "Epoch 48/200\n",
            "9/9 [==============================] - 2s 263ms/step - loss: 0.1924 - accuracy: 0.9292 - val_loss: 0.2025 - val_accuracy: 0.9350 - lr: 0.0010\n",
            "Epoch 49/200\n",
            "9/9 [==============================] - 2s 259ms/step - loss: 0.1897 - accuracy: 0.9285 - val_loss: 0.2008 - val_accuracy: 0.9367 - lr: 0.0010\n",
            "Epoch 50/200\n",
            "9/9 [==============================] - 2s 266ms/step - loss: 0.1929 - accuracy: 0.9261 - val_loss: 0.1999 - val_accuracy: 0.9367 - lr: 0.0010\n",
            "Epoch 51/200\n",
            "9/9 [==============================] - 2s 268ms/step - loss: 0.1887 - accuracy: 0.9286 - val_loss: 0.1963 - val_accuracy: 0.9383 - lr: 0.0010\n",
            "Epoch 52/200\n",
            "9/9 [==============================] - 3s 296ms/step - loss: 0.1840 - accuracy: 0.9299 - val_loss: 0.1940 - val_accuracy: 0.9383 - lr: 0.0010\n",
            "Epoch 53/200\n",
            "9/9 [==============================] - 2s 262ms/step - loss: 0.1748 - accuracy: 0.9359 - val_loss: 0.1946 - val_accuracy: 0.9417 - lr: 0.0010\n",
            "Epoch 54/200\n",
            "9/9 [==============================] - 2s 263ms/step - loss: 0.1803 - accuracy: 0.9326 - val_loss: 0.1910 - val_accuracy: 0.9417 - lr: 0.0010\n",
            "Epoch 55/200\n",
            "9/9 [==============================] - 2s 262ms/step - loss: 0.1774 - accuracy: 0.9361 - val_loss: 0.1873 - val_accuracy: 0.9383 - lr: 0.0010\n",
            "Epoch 56/200\n",
            "9/9 [==============================] - 2s 262ms/step - loss: 0.1712 - accuracy: 0.9378 - val_loss: 0.1858 - val_accuracy: 0.9400 - lr: 0.0010\n",
            "Epoch 57/200\n",
            "9/9 [==============================] - 2s 263ms/step - loss: 0.1696 - accuracy: 0.9386 - val_loss: 0.1847 - val_accuracy: 0.9417 - lr: 0.0010\n",
            "Epoch 58/200\n",
            "9/9 [==============================] - 3s 298ms/step - loss: 0.1701 - accuracy: 0.9375 - val_loss: 0.1833 - val_accuracy: 0.9450 - lr: 0.0010\n",
            "Epoch 59/200\n",
            "9/9 [==============================] - 3s 286ms/step - loss: 0.1630 - accuracy: 0.9435 - val_loss: 0.1830 - val_accuracy: 0.9433 - lr: 0.0010\n",
            "Epoch 60/200\n",
            "9/9 [==============================] - 3s 292ms/step - loss: 0.1630 - accuracy: 0.9426 - val_loss: 0.1818 - val_accuracy: 0.9450 - lr: 0.0010\n",
            "Epoch 61/200\n",
            "9/9 [==============================] - 3s 289ms/step - loss: 0.1590 - accuracy: 0.9435 - val_loss: 0.1791 - val_accuracy: 0.9483 - lr: 0.0010\n",
            "Epoch 62/200\n",
            "9/9 [==============================] - 2s 261ms/step - loss: 0.1622 - accuracy: 0.9417 - val_loss: 0.1767 - val_accuracy: 0.9483 - lr: 0.0010\n",
            "Epoch 63/200\n",
            "9/9 [==============================] - 2s 249ms/step - loss: 0.1553 - accuracy: 0.9460 - val_loss: 0.1768 - val_accuracy: 0.9483 - lr: 0.0010\n",
            "Epoch 64/200\n",
            "9/9 [==============================] - 3s 300ms/step - loss: 0.1559 - accuracy: 0.9436 - val_loss: 0.1733 - val_accuracy: 0.9500 - lr: 0.0010\n",
            "Epoch 65/200\n",
            "9/9 [==============================] - 3s 285ms/step - loss: 0.1618 - accuracy: 0.9409 - val_loss: 0.1727 - val_accuracy: 0.9500 - lr: 0.0010\n",
            "Epoch 66/200\n",
            "9/9 [==============================] - 2s 264ms/step - loss: 0.1522 - accuracy: 0.9466 - val_loss: 0.1721 - val_accuracy: 0.9500 - lr: 0.0010\n",
            "Epoch 67/200\n",
            "9/9 [==============================] - 2s 265ms/step - loss: 0.1488 - accuracy: 0.9481 - val_loss: 0.1711 - val_accuracy: 0.9483 - lr: 0.0010\n",
            "Epoch 68/200\n",
            "9/9 [==============================] - 2s 264ms/step - loss: 0.1474 - accuracy: 0.9496 - val_loss: 0.1696 - val_accuracy: 0.9500 - lr: 0.0010\n",
            "Epoch 69/200\n",
            "9/9 [==============================] - 2s 245ms/step - loss: 0.1472 - accuracy: 0.9469 - val_loss: 0.1698 - val_accuracy: 0.9500 - lr: 0.0010\n",
            "Epoch 70/200\n",
            "9/9 [==============================] - 3s 294ms/step - loss: 0.1405 - accuracy: 0.9531 - val_loss: 0.1685 - val_accuracy: 0.9483 - lr: 0.0010\n",
            "Epoch 71/200\n",
            "9/9 [==============================] - 3s 294ms/step - loss: 0.1397 - accuracy: 0.9532 - val_loss: 0.1666 - val_accuracy: 0.9517 - lr: 0.0010\n",
            "Epoch 72/200\n",
            "9/9 [==============================] - 2s 265ms/step - loss: 0.1355 - accuracy: 0.9547 - val_loss: 0.1646 - val_accuracy: 0.9517 - lr: 0.0010\n",
            "Epoch 73/200\n",
            "9/9 [==============================] - 2s 245ms/step - loss: 0.1376 - accuracy: 0.9534 - val_loss: 0.1651 - val_accuracy: 0.9483 - lr: 0.0010\n",
            "Epoch 74/200\n",
            "9/9 [==============================] - 2s 262ms/step - loss: 0.1374 - accuracy: 0.9513 - val_loss: 0.1623 - val_accuracy: 0.9550 - lr: 0.0010\n",
            "Epoch 75/200\n",
            "9/9 [==============================] - 2s 264ms/step - loss: 0.1315 - accuracy: 0.9565 - val_loss: 0.1608 - val_accuracy: 0.9600 - lr: 0.0010\n",
            "Epoch 76/200\n",
            "9/9 [==============================] - 2s 264ms/step - loss: 0.1333 - accuracy: 0.9527 - val_loss: 0.1615 - val_accuracy: 0.9550 - lr: 0.0010\n",
            "Epoch 77/200\n",
            "9/9 [==============================] - 3s 291ms/step - loss: 0.1290 - accuracy: 0.9556 - val_loss: 0.1598 - val_accuracy: 0.9533 - lr: 0.0010\n",
            "Epoch 78/200\n",
            "9/9 [==============================] - 2s 269ms/step - loss: 0.1231 - accuracy: 0.9587 - val_loss: 0.1595 - val_accuracy: 0.9533 - lr: 0.0010\n",
            "Epoch 79/200\n",
            "9/9 [==============================] - 2s 265ms/step - loss: 0.1273 - accuracy: 0.9564 - val_loss: 0.1589 - val_accuracy: 0.9550 - lr: 0.0010\n",
            "Epoch 80/200\n",
            "9/9 [==============================] - 2s 267ms/step - loss: 0.1198 - accuracy: 0.9620 - val_loss: 0.1579 - val_accuracy: 0.9550 - lr: 0.0010\n",
            "Epoch 81/200\n",
            "9/9 [==============================] - 2s 260ms/step - loss: 0.1227 - accuracy: 0.9595 - val_loss: 0.1563 - val_accuracy: 0.9583 - lr: 0.0010\n",
            "Epoch 82/200\n",
            "9/9 [==============================] - 3s 286ms/step - loss: 0.1201 - accuracy: 0.9597 - val_loss: 0.1562 - val_accuracy: 0.9633 - lr: 0.0010\n",
            "Epoch 83/200\n",
            "9/9 [==============================] - 3s 292ms/step - loss: 0.1240 - accuracy: 0.9561 - val_loss: 0.1558 - val_accuracy: 0.9583 - lr: 0.0010\n",
            "Epoch 84/200\n",
            "9/9 [==============================] - 2s 271ms/step - loss: 0.1147 - accuracy: 0.9646 - val_loss: 0.1541 - val_accuracy: 0.9617 - lr: 0.0010\n",
            "Epoch 85/200\n",
            "9/9 [==============================] - 2s 268ms/step - loss: 0.1192 - accuracy: 0.9617 - val_loss: 0.1533 - val_accuracy: 0.9633 - lr: 0.0010\n",
            "Epoch 86/200\n",
            "9/9 [==============================] - 2s 244ms/step - loss: 0.1119 - accuracy: 0.9641 - val_loss: 0.1540 - val_accuracy: 0.9600 - lr: 0.0010\n",
            "Epoch 87/200\n",
            "9/9 [==============================] - 2s 262ms/step - loss: 0.1115 - accuracy: 0.9660 - val_loss: 0.1533 - val_accuracy: 0.9600 - lr: 0.0010\n",
            "Epoch 88/200\n",
            "9/9 [==============================] - 2s 259ms/step - loss: 0.1090 - accuracy: 0.9652 - val_loss: 0.1539 - val_accuracy: 0.9583 - lr: 0.0010\n",
            "Epoch 89/200\n",
            "9/9 [==============================] - 3s 291ms/step - loss: 0.1112 - accuracy: 0.9631 - val_loss: 0.1526 - val_accuracy: 0.9600 - lr: 0.0010\n",
            "Epoch 90/200\n",
            "9/9 [==============================] - 2s 270ms/step - loss: 0.1075 - accuracy: 0.9638 - val_loss: 0.1516 - val_accuracy: 0.9617 - lr: 0.0010\n",
            "Epoch 91/200\n",
            "9/9 [==============================] - 2s 262ms/step - loss: 0.1030 - accuracy: 0.9678 - val_loss: 0.1505 - val_accuracy: 0.9617 - lr: 0.0010\n",
            "Epoch 92/200\n",
            "9/9 [==============================] - 2s 261ms/step - loss: 0.1042 - accuracy: 0.9660 - val_loss: 0.1501 - val_accuracy: 0.9617 - lr: 0.0010\n",
            "Epoch 93/200\n",
            "9/9 [==============================] - 2s 263ms/step - loss: 0.1146 - accuracy: 0.9610 - val_loss: 0.1491 - val_accuracy: 0.9633 - lr: 0.0010\n",
            "Epoch 94/200\n",
            "9/9 [==============================] - 2s 249ms/step - loss: 0.1044 - accuracy: 0.9669 - val_loss: 0.1509 - val_accuracy: 0.9617 - lr: 0.0010\n",
            "Epoch 95/200\n",
            "9/9 [==============================] - 2s 269ms/step - loss: 0.1101 - accuracy: 0.9631 - val_loss: 0.1504 - val_accuracy: 0.9617 - lr: 0.0010\n",
            "Epoch 96/200\n",
            "9/9 [==============================] - 3s 285ms/step - loss: 0.1044 - accuracy: 0.9683 - val_loss: 0.1488 - val_accuracy: 0.9617 - lr: 0.0010\n",
            "Epoch 97/200\n",
            "9/9 [==============================] - 2s 261ms/step - loss: 0.1052 - accuracy: 0.9640 - val_loss: 0.1475 - val_accuracy: 0.9617 - lr: 0.0010\n",
            "Epoch 98/200\n",
            "9/9 [==============================] - 2s 260ms/step - loss: 0.0995 - accuracy: 0.9711 - val_loss: 0.1468 - val_accuracy: 0.9617 - lr: 0.0010\n",
            "Epoch 99/200\n",
            "9/9 [==============================] - 2s 243ms/step - loss: 0.1003 - accuracy: 0.9674 - val_loss: 0.1469 - val_accuracy: 0.9617 - lr: 0.0010\n",
            "Epoch 100/200\n",
            "9/9 [==============================] - 2s 262ms/step - loss: 0.0954 - accuracy: 0.9695 - val_loss: 0.1453 - val_accuracy: 0.9617 - lr: 0.0010\n",
            "Epoch 101/200\n",
            "9/9 [==============================] - 2s 272ms/step - loss: 0.0980 - accuracy: 0.9693 - val_loss: 0.1461 - val_accuracy: 0.9617 - lr: 0.0010\n",
            "Epoch 102/200\n",
            "9/9 [==============================] - 3s 292ms/step - loss: 0.0953 - accuracy: 0.9699 - val_loss: 0.1449 - val_accuracy: 0.9617 - lr: 0.0010\n",
            "Epoch 103/200\n",
            "9/9 [==============================] - 2s 242ms/step - loss: 0.0963 - accuracy: 0.9712 - val_loss: 0.1456 - val_accuracy: 0.9617 - lr: 0.0010\n",
            "Epoch 104/200\n",
            "9/9 [==============================] - 2s 262ms/step - loss: 0.0962 - accuracy: 0.9689 - val_loss: 0.1446 - val_accuracy: 0.9617 - lr: 0.0010\n",
            "Epoch 105/200\n",
            "9/9 [==============================] - 2s 246ms/step - loss: 0.0918 - accuracy: 0.9713 - val_loss: 0.1457 - val_accuracy: 0.9617 - lr: 0.0010\n",
            "Epoch 106/200\n",
            "9/9 [==============================] - 2s 244ms/step - loss: 0.0920 - accuracy: 0.9737 - val_loss: 0.1451 - val_accuracy: 0.9617 - lr: 0.0010\n",
            "Epoch 107/200\n",
            "9/9 [==============================] - 3s 285ms/step - loss: 0.0910 - accuracy: 0.9715 - val_loss: 0.1443 - val_accuracy: 0.9617 - lr: 0.0010\n",
            "Epoch 108/200\n",
            "9/9 [==============================] - 3s 313ms/step - loss: 0.0876 - accuracy: 0.9727 - val_loss: 0.1438 - val_accuracy: 0.9617 - lr: 0.0010\n",
            "Epoch 109/200\n",
            "9/9 [==============================] - 2s 246ms/step - loss: 0.0894 - accuracy: 0.9724 - val_loss: 0.1445 - val_accuracy: 0.9617 - lr: 0.0010\n",
            "Epoch 110/200\n",
            "9/9 [==============================] - 2s 262ms/step - loss: 0.0892 - accuracy: 0.9712 - val_loss: 0.1435 - val_accuracy: 0.9617 - lr: 0.0010\n",
            "Epoch 111/200\n",
            "9/9 [==============================] - 2s 263ms/step - loss: 0.0850 - accuracy: 0.9742 - val_loss: 0.1420 - val_accuracy: 0.9617 - lr: 0.0010\n",
            "Epoch 112/200\n",
            "9/9 [==============================] - 2s 264ms/step - loss: 0.0869 - accuracy: 0.9734 - val_loss: 0.1410 - val_accuracy: 0.9617 - lr: 0.0010\n",
            "Epoch 113/200\n",
            "9/9 [==============================] - 2s 255ms/step - loss: 0.0854 - accuracy: 0.9755 - val_loss: 0.1423 - val_accuracy: 0.9617 - lr: 0.0010\n",
            "Epoch 114/200\n",
            "9/9 [==============================] - 3s 280ms/step - loss: 0.0845 - accuracy: 0.9761 - val_loss: 0.1444 - val_accuracy: 0.9617 - lr: 0.0010\n",
            "Epoch 115/200\n",
            "9/9 [==============================] - 2s 247ms/step - loss: 0.0856 - accuracy: 0.9729 - val_loss: 0.1416 - val_accuracy: 0.9600 - lr: 0.0010\n",
            "Epoch 116/200\n",
            "9/9 [==============================] - 2s 262ms/step - loss: 0.0827 - accuracy: 0.9762 - val_loss: 0.1402 - val_accuracy: 0.9617 - lr: 0.0010\n",
            "Epoch 117/200\n",
            "9/9 [==============================] - 2s 265ms/step - loss: 0.0833 - accuracy: 0.9741 - val_loss: 0.1401 - val_accuracy: 0.9617 - lr: 0.0010\n",
            "Epoch 118/200\n",
            "9/9 [==============================] - 2s 262ms/step - loss: 0.0835 - accuracy: 0.9748 - val_loss: 0.1401 - val_accuracy: 0.9650 - lr: 0.0010\n",
            "Epoch 119/200\n",
            "9/9 [==============================] - 2s 270ms/step - loss: 0.0804 - accuracy: 0.9758 - val_loss: 0.1385 - val_accuracy: 0.9633 - lr: 0.0010\n",
            "Epoch 120/200\n",
            "9/9 [==============================] - 3s 281ms/step - loss: 0.0794 - accuracy: 0.9784 - val_loss: 0.1386 - val_accuracy: 0.9633 - lr: 0.0010\n",
            "Epoch 121/200\n",
            "9/9 [==============================] - 2s 282ms/step - loss: 0.0945 - accuracy: 0.9679 - val_loss: 0.1373 - val_accuracy: 0.9617 - lr: 0.0010\n",
            "Epoch 122/200\n",
            "9/9 [==============================] - 2s 260ms/step - loss: 0.0785 - accuracy: 0.9768 - val_loss: 0.1369 - val_accuracy: 0.9633 - lr: 0.0010\n",
            "Epoch 123/200\n",
            "9/9 [==============================] - 2s 245ms/step - loss: 0.0812 - accuracy: 0.9747 - val_loss: 0.1380 - val_accuracy: 0.9667 - lr: 0.0010\n",
            "Epoch 124/200\n",
            "9/9 [==============================] - 2s 243ms/step - loss: 0.0787 - accuracy: 0.9762 - val_loss: 0.1379 - val_accuracy: 0.9650 - lr: 0.0010\n",
            "Epoch 125/200\n",
            "9/9 [==============================] - 2s 247ms/step - loss: 0.0800 - accuracy: 0.9760 - val_loss: 0.1381 - val_accuracy: 0.9633 - lr: 0.0010\n",
            "Epoch 126/200\n",
            "9/9 [==============================] - 2s 268ms/step - loss: 0.0755 - accuracy: 0.9785 - val_loss: 0.1375 - val_accuracy: 0.9650 - lr: 0.0010\n",
            "Epoch 127/200\n",
            "9/9 [==============================] - 3s 294ms/step - loss: 0.0771 - accuracy: 0.9766 - val_loss: 0.1353 - val_accuracy: 0.9633 - lr: 0.0010\n",
            "Epoch 128/200\n",
            "9/9 [==============================] - 2s 242ms/step - loss: 0.0736 - accuracy: 0.9769 - val_loss: 0.1361 - val_accuracy: 0.9650 - lr: 0.0010\n",
            "Epoch 129/200\n",
            "9/9 [==============================] - 2s 243ms/step - loss: 0.0749 - accuracy: 0.9775 - val_loss: 0.1366 - val_accuracy: 0.9667 - lr: 0.0010\n",
            "Epoch 130/200\n",
            "9/9 [==============================] - 2s 244ms/step - loss: 0.0806 - accuracy: 0.9755 - val_loss: 0.1370 - val_accuracy: 0.9667 - lr: 0.0010\n",
            "Epoch 131/200\n",
            "9/9 [==============================] - 2s 245ms/step - loss: 0.0796 - accuracy: 0.9761 - val_loss: 0.1373 - val_accuracy: 0.9650 - lr: 0.0010\n",
            "Epoch 132/200\n",
            "9/9 [==============================] - 3s 289ms/step - loss: 0.0751 - accuracy: 0.9781 - val_loss: 0.1353 - val_accuracy: 0.9667 - lr: 0.0010\n"
          ]
        }
      ],
      "source": [
        "# Start training the model.\n",
        "#history = model.fit(\n",
        "    #x=features_train, y=labels_train, epochs=200, batch_size=128,\n",
        "    #shuffle=True, validation_split=0.2, callbacks=[early_stopping,lr_scheduler])\n",
        "\n",
        "\n",
        "# Start training the model.\n",
        "history = model.fit(features_train,labels_train, epochs=200, batch_size=128,\n",
        "    shuffle=True, callbacks=[early_stopping],validation_data=(features_test, labels_test))"
      ]
    },
    {
      "cell_type": "code",
      "execution_count": 28,
      "metadata": {
        "colab": {
          "base_uri": "https://localhost:8080/"
        },
        "id": "6sk6g4xkMPAq",
        "outputId": "beb23835-73c4-4414-bacd-b2896b35511f"
      },
      "outputs": [
        {
          "output_type": "stream",
          "name": "stdout",
          "text": [
            "2/2 [==============================] - 4s 2s/step - loss: 0.1353 - accuracy: 0.9633\n"
          ]
        }
      ],
      "source": [
        "# Evaluate the trained model.\n",
        "model_evaluation_history = model.evaluate(features_test, labels_test)"
      ]
    },
    {
      "cell_type": "code",
      "execution_count": 29,
      "metadata": {
        "colab": {
          "base_uri": "https://localhost:8080/",
          "height": 434
        },
        "id": "UCb2Bj8WMZGt",
        "outputId": "cfffeec9-225b-44ad-f59c-eade33e6bc19"
      },
      "outputs": [
        {
          "output_type": "display_data",
          "data": {
            "text/plain": [
              "<Figure size 640x480 with 1 Axes>"
            ],
            "image/png": "[encoded data removed]"
          },
          "metadata": {}
        }
      ],
      "source": [
        "import matplotlib.pyplot as plt\n",
        "\n",
        "plt.plot(history.history['accuracy'],color='red',label='train')\n",
        "plt.plot(history.history['val_accuracy'],color='blue',label='validation')\n",
        "plt.legend()\n",
        "plt.show()"
      ]
    },
    {
      "cell_type": "code",
      "execution_count": 30,
      "metadata": {
        "colab": {
          "base_uri": "https://localhost:8080/",
          "height": 430
        },
        "id": "tvu7cTDoMsi6",
        "outputId": "c09725f4-9a33-46f8-a2ee-e94ce0f40d8a"
      },
      "outputs": [
        {
          "output_type": "display_data",
          "data": {
            "text/plain": [
              "<Figure size 640x480 with 1 Axes>"
            ],
            "image/png": "[encoded data removed]"
          },
          "metadata": {}
        }
      ],
      "source": [
        "plt.plot(history.history['loss'],color='red',label='train')\n",
        "plt.plot(history.history['val_loss'],color='blue',label='validation')\n",
        "plt.legend()\n",
        "plt.show()"
      ]
    },
    {
      "cell_type": "code",
      "execution_count": null,
      "metadata": {
        "id": "uTZDGhRQMtSx"
      },
      "outputs": [],
      "source": []
    }
  ],
  "metadata": {
    "accelerator": "GPU",
    "colab": {
      "provenance": [],
      "gpuType": "T4"
    },
    "kernelspec": {
      "display_name": "Python 3",
      "name": "python3"
    },
    "language_info": {
      "name": "python"
    }
  },
  "nbformat": 4,
  "nbformat_minor": 0
}